{
  "cells": [
    {
      "cell_type": "markdown",
      "metadata": {
        "id": "q17JwemaH6o5"
      },
      "source": [
        "# AIF 360 Adult Dataset analysis with cross-validation"
      ]
    },
    {
      "cell_type": "markdown",
      "metadata": {
        "id": "d3Av8Nr0ZD-g"
      },
      "source": [
        "#### Uncomment cell bellow if libraries need to be installed. "
      ]
    },
    {
      "cell_type": "code",
      "execution_count": null,
      "metadata": {
        "id": "dt06l1u_JUa1"
      },
      "outputs": [],
      "source": [
        "# !pip install aif360\n",
        "# !pip install fairlearn\n",
        "# !pip install tensorflow"
      ]
    },
    {
      "cell_type": "markdown",
      "metadata": {
        "id": "H1uLDmEYZD-i"
      },
      "source": [
        "# AdultDataset \n",
        "\n"
      ]
    },
    {
      "cell_type": "code",
      "execution_count": null,
      "metadata": {
        "id": "X72MNJrKZD-i"
      },
      "outputs": [],
      "source": [
        "import numpy as np\n",
        "import pandas as pd\n",
        "import tensorflow as tf\n",
        "from aif360.datasets import AdultDataset\n",
        "from aif360.algorithms.preprocessing.optim_preproc_helpers.data_preproc_functions import load_preproc_data_adult\n",
        "from aif360.algorithms.preprocessing.reweighing import Reweighing\n",
        "from aif360.metrics import ClassificationMetric \n",
        "from sklearn.metrics import confusion_matrix\n",
        "from sklearn.preprocessing import MinMaxScaler\n",
        "from sklearn.linear_model import LogisticRegression\n",
        "from sklearn.model_selection import cross_val_score\n",
        "from sklearn.metrics import accuracy_score\n",
        "from sklearn.model_selection import ShuffleSplit\n",
        "from sklearn.svm import SVC\n",
        "\n",
        "np.random.seed(42) # Choose random seed to replicate the results\n"
      ]
    },
    {
      "cell_type": "markdown",
      "metadata": {
        "id": "6ymA9QLBZD-j"
      },
      "source": [
        "#### Uncomment cell below for entering the folder in which the required files are stored. "
      ]
    },
    {
      "cell_type": "code",
      "execution_count": null,
      "metadata": {
        "colab": {
          "base_uri": "https://localhost:8080/"
        },
        "id": "A_KKtQx4K1Js",
        "outputId": "cadbd3d7-05c6-4c30-e5e5-100385c30d01"
      },
      "outputs": [
        {
          "output_type": "stream",
          "name": "stdout",
          "text": [
            "/usr/local/lib/python3.7/dist-packages/aif360/data/raw/adult\n"
          ]
        }
      ],
      "source": [
        "# cd /usr/local/lib/python3.7/dist-packages/aif360/data/raw/adult"
      ]
    },
    {
      "cell_type": "markdown",
      "metadata": {
        "id": "oi0EvxsFcgq2"
      },
      "source": [
        "#### Uncomment cell below for downloading the required files. "
      ]
    },
    {
      "cell_type": "code",
      "execution_count": null,
      "metadata": {
        "id": "Xfp113SdZD-k"
      },
      "outputs": [],
      "source": [
        "# !wget https://archive.ics.uci.edu/ml/machine-learning-databases/adult/adult.data\n",
        "# !wget https://archive.ics.uci.edu/ml/machine-learning-databases/adult/adult.test\n",
        "# !wget https://archive.ics.uci.edu/ml/machine-learning-databases/adult/adult.names"
      ]
    },
    {
      "cell_type": "code",
      "execution_count": null,
      "metadata": {
        "colab": {
          "base_uri": "https://localhost:8080/"
        },
        "id": "CDb41mSiZD-l",
        "outputId": "b654df7b-7ebe-48f8-ebc5-3113974db795"
      },
      "outputs": [
        {
          "output_type": "stream",
          "name": "stdout",
          "text": [
            "0.8039991810550741\n"
          ]
        }
      ],
      "source": [
        "# Representation of a standard ML classification\n",
        "\n",
        "dataset_orig = load_preproc_data_adult(['sex']) # Load adult dataset as a pre-set class made by AIF360\n",
        "\n",
        "# Assign privileged and unprivileged classes. \n",
        "priv = [{'sex': 1}]\n",
        "unpriv = [{'sex': 0}]\n",
        "\n",
        "# Split the dataset into train and test. \n",
        "train, test = dataset_orig.split([0.7], shuffle=True)\n",
        "# Standard scaler for one-hot encoding. \n",
        "scaler = MinMaxScaler()\n",
        "# Assign train and test data to be predicted and compared to expected outputs. \n",
        "X_train = scaler.fit_transform(train.features)\n",
        "y_train = train.labels.ravel()\n",
        "X_test = scaler.transform(test.features) \n",
        "y_test = test.labels.ravel()\n",
        "# Choose an example of a classifier. In this example, Logistic Regression is used. \n",
        "clf = LogisticRegression(solver='liblinear', C = 0.5, random_state=1)  \n",
        "# Train the classifier. \n",
        "clf.fit(X_train,y_train)\n",
        "predictions = clf.predict(X_test)\n",
        "test_pred = test.copy()\n",
        "test_pred.labels = predictions\n",
        "# Test the accuracy by comparing predictions with test data. \n",
        "acc = sum(predictions==y_test)/len(y_test)\n",
        "print (acc)\n"
      ]
    },
    {
      "cell_type": "markdown",
      "metadata": {
        "id": "kXoILRuLZD-l"
      },
      "source": [
        "# From the start"
      ]
    },
    {
      "cell_type": "code",
      "execution_count": null,
      "metadata": {
        "colab": {
          "base_uri": "https://localhost:8080/"
        },
        "id": "tp-5ZQJqPC15",
        "outputId": "e28af86c-d6bc-4286-b546-34274a5ffdcd"
      },
      "outputs": [
        {
          "output_type": "stream",
          "name": "stderr",
          "text": [
            "WARNING:root:Missing Data: 3620 rows removed from AdultDataset.\n"
          ]
        }
      ],
      "source": [
        "\n",
        "\n",
        "ds = AdultDataset()\n",
        "dataset_orig = load_preproc_data_adult(['sex'])\n",
        "priv = [{'sex': 1}]\n",
        "unpriv = [{'sex': 0}]\n",
        "train, test = dataset_orig.split([0.7], shuffle=True)\n",
        "scaler = MinMaxScaler()\n"
      ]
    },
    {
      "cell_type": "code",
      "source": [
        ""
      ],
      "metadata": {
        "id": "HQZFCWObddFD"
      },
      "execution_count": null,
      "outputs": []
    },
    {
      "cell_type": "markdown",
      "source": [
        "#### The function below sets the way in which the tradeoff between accuracy and fairness metrics is computed. This will be used later for illustrating the efficiency of reweighting. "
      ],
      "metadata": {
        "id": "yF9KDua-dhFd"
      }
    },
    {
      "cell_type": "code",
      "execution_count": null,
      "metadata": {
        "id": "Fu44E_5wZD-m"
      },
      "outputs": [],
      "source": [
        "def return_af_tradeoff(acc, eo):\n",
        "    ftd = (1 - abs(eo) + acc)/2\n",
        "    return ftd\n"
      ]
    },
    {
      "cell_type": "code",
      "execution_count": null,
      "metadata": {
        "id": "fDwaeNRcZD-m",
        "scrolled": true
      },
      "outputs": [],
      "source": [
        "# Slit the training dataset into 5 folds. \n",
        "def ret_folds(train, k = 5):\n",
        "    f1, f2, f3, f4, f5 = train.split(k, shuffle = True)\n",
        "    folds = [f1, f2, f3, f4, f5]\n",
        "    return folds\n",
        "\n",
        "# Evaluate each sub-set individually and return the output values. \n",
        "def eval_k_fold(train, clf, rw=None,k=5):\n",
        "    \n",
        "    if rw: \n",
        "        train = rw.fit_transform(train)\n",
        "        \n",
        "    train_folds = ret_folds(train)\n",
        "    averages = [0, 0, 0]\n",
        "    eq_opps = []\n",
        "    tradeoffs = []\n",
        "    accuracies = []\n",
        "    true_ys = []\n",
        "    y_preds = []\n",
        "    metrics = {}\n",
        "    k_test = train_folds[0]\n",
        "    \n",
        "    for i in range(k-1, -1, -1):\n",
        "        for j in range(k-1):\n",
        "            if j == 0:\n",
        "                X_train = scaler.fit_transform(train_folds[j].features)\n",
        "                y_train = train_folds[j].labels.ravel()\n",
        "                sw = train_folds[j].instance_weights\n",
        "                true_ys = np.concatenate((y_train, true_ys))\n",
        "            else:\n",
        "                if j == i:\n",
        "                    pass\n",
        "                else:\n",
        "                    X_train = np.concatenate((X_train, scaler.fit_transform(train_folds[j].features)))\n",
        "                    y_train = np.concatenate((y_train, train_folds[j].labels.ravel()))\n",
        "                    sw = np.concatenate((sw, train_folds[j].instance_weights))\n",
        "                    true_ys = np.concatenate((true_ys, train_folds[j].labels.ravel()))\n",
        "        \n",
        "        X_test = scaler.transform(k_test.features)\n",
        "        y_test = k_test.labels.ravel()\n",
        "        clf.fit(X_train, y_train, sample_weight = sw)\n",
        "        predictions = clf.predict(k_test.features)\n",
        "        test_pred = k_test.copy()\n",
        "        test_pred.labels = predictions\n",
        "        y_preds = np.concatenate((y_preds, test_pred.labels))\n",
        "        \n",
        "        metric = ClassificationMetric(k_test, test_pred, unprivileged_groups=unpriv, privileged_groups=priv)\n",
        "        eo = (metric.equal_opportunity_difference())\n",
        "        metrics[\"Fold \" + str(i+1) + \" metrics\"] = {\"eq_opp_diff\": eo}\n",
        "        metrics[\"Fold \" + str(i+1) + \" metrics\"][\"accuracy\"] = acc = sum(predictions==k_test.labels.ravel())/len(k_test.labels.ravel())\n",
        "        metrics[\"Fold \" + str(i+1) + \" metrics\"][\"tradeoff\"] = return_af_tradeoff(acc, eo)\n",
        "        \n",
        "        eq_opps = np.append(eq_opps, eo)\n",
        "        accuracies = np.append(accuracies, acc)\n",
        "        tradeoffs = np.append(tradeoffs, return_af_tradeoff(acc, eo))\n",
        "        \n",
        "        averages[0] += sum(predictions==k_test.labels.ravel())/len(k_test.labels.ravel())\n",
        "        averages[1] += (metric.equal_opportunity_difference())\n",
        "        averages[2] += return_af_tradeoff(acc, eo)\n",
        "        \n",
        "        k_test = train_folds[i]\n",
        "        \n",
        "    averages = {'mean_acc': averages[0]/k, 'avg_tradeoff': averages[2]/k, 'mean_eq_opp': averages[1]/k}  # Get the average of all the folds.\n",
        "    ys = {'predicted_ys' : y_preds, 'true_ys' : true_ys}\n",
        "\n",
        "        \n",
        "    return metrics, averages, ys, eq_opps\n",
        "        "
      ]
    },
    {
      "cell_type": "code",
      "execution_count": null,
      "metadata": {
        "id": "kWRuhXpDZD-n"
      },
      "outputs": [],
      "source": [
        "# Evaluate Logistic Regression with various parameters and solvers. \n",
        "def eval_log_reg(train, silence_print = False, rw = None):\n",
        "    eo_avgs = []\n",
        "    acc_avgs = []\n",
        "    tradeoff_avgs=[]\n",
        "    models = {}\n",
        "    \n",
        "    for solver in logreg_solvers:\n",
        "        for c in C:\n",
        "            metrics, averages, ys, eq_opps = eval_k_fold(train, clf = LogisticRegression(solver = solver, C = c), rw = rw)\n",
        "            models[f'{solver}_LogReg_{c}'] = {'averages':averages}\n",
        "            models[f'{solver}_LogReg_{c}']['metrics'] = metrics\n",
        "            models[f'{solver}_LogReg_{c}']['ys'] = ys\n",
        "            models[f'{solver}_LogReg_{c}']['eq_opps'] = eq_opps\n",
        "            \n",
        "            if not silence_print:\n",
        "                print (f\"Results for LogReg with C = {c}, and solver = {solver} : \\n \\n Averages: {averages}\")\n",
        "                print (\"\\n\")\n",
        "    return models\n",
        "\n",
        "# Evaluate Support Vector Classifier with various parameters and kernels. \n",
        "def eval_svc(train, silence_print = False, rw = None):\n",
        "    eo_avgs = []\n",
        "    acc_avgs = []\n",
        "    tradeoff_avgs=[]\n",
        "    models = {}\n",
        "    \n",
        "    for kernel in svm_kernels:\n",
        "        for c in C:\n",
        "            metrics, averages, ys, eq_opps = eval_k_fold(train, clf = SVC(kernel = kernel, C = c, gamma = g), rw = rw)\n",
        "            models[f'{kernel}_SVC, c:{c}'] = {'averages':averages}\n",
        "            models[f'{kernel}_SVC, c:{c}']['metrics'] = metrics\n",
        "            models[f'{kernel}_SVC, c:{c}']['ys'] = ys\n",
        "            models[f'{kernel}_SVC, c:{c}']['eq_opps'] = eq_opps\n",
        "\n",
        "            if not silence_print:\n",
        "                print (f\"Results for SVC with C = {c}, gamma = {g} and kernel = {kernel} : \\n \\n Averages: {averages}\")\n",
        "                print (\"\\n\")\n",
        "    return models            "
      ]
    },
    {
      "cell_type": "code",
      "execution_count": null,
      "metadata": {
        "colab": {
          "base_uri": "https://localhost:8080/"
        },
        "collapsed": true,
        "id": "xksRTjJfZD-o",
        "outputId": "209c28cb-85b3-4b06-d4d4-dde70c26c93c"
      },
      "outputs": [
        {
          "output_type": "stream",
          "name": "stdout",
          "text": [
            "Results for SVC with C = 1e-05, gamma = auto and kernel = linear : \n",
            " \n",
            " Averages: {'mean_acc': 0.7611803974408813, 'avg_tradeoff': 0.8805901987204408, 'mean_eq_opp': 0.0}\n",
            "\n",
            "\n",
            "Results for SVC with C = 0.002, gamma = auto and kernel = linear : \n",
            " \n",
            " Averages: {'mean_acc': 0.7611804658880206, 'avg_tradeoff': 0.8805902329440103, 'mean_eq_opp': 0.0}\n",
            "\n",
            "\n",
            "Results for SVC with C = 0.1, gamma = auto and kernel = linear : \n",
            " \n",
            " Averages: {'mean_acc': 0.7877387601989981, 'avg_tradeoff': 0.8751632114582095, 'mean_eq_opp': 0.0014299823745114182}\n",
            "\n",
            "\n",
            "Results for SVC with C = 0.5, gamma = auto and kernel = linear : \n",
            " \n",
            " Averages: {'mean_acc': 0.7877387259754284, 'avg_tradeoff': 0.8830924821313193, 'mean_eq_opp': 0.0017860368592069408}\n",
            "\n",
            "\n",
            "Results for SVC with C = 1, gamma = auto and kernel = linear : \n",
            " \n",
            " Averages: {'mean_acc': 0.7877388029784601, 'avg_tradeoff': 0.8808220023333053, 'mean_eq_opp': 0.0022054832781169932}\n",
            "\n",
            "\n",
            "Results for SVC with C = 2, gamma = auto and kernel = linear : \n",
            " \n",
            " Averages: {'mean_acc': 0.7877385805252575, 'avg_tradeoff': 0.8785066264268803, 'mean_eq_opp': 0.0012844402124119192}\n",
            "\n",
            "\n",
            "Results for SVC with C = 5, gamma = auto and kernel = linear : \n",
            " \n",
            " Averages: {'mean_acc': 0.7877971456088402, 'avg_tradeoff': 0.884790969162634, 'mean_eq_opp': 0.001404422692470364}\n",
            "\n",
            "\n",
            "Results for SVC with C = 1e-05, gamma = auto and kernel = poly : \n",
            " \n",
            " Averages: {'mean_acc': 0.7611803332716882, 'avg_tradeoff': 0.8805901666358441, 'mean_eq_opp': 0.0}\n",
            "\n",
            "\n",
            "Results for SVC with C = 0.002, gamma = auto and kernel = poly : \n",
            " \n",
            " Averages: {'mean_acc': 0.7611805300572136, 'avg_tradeoff': 0.8805902650286068, 'mean_eq_opp': 0.0}\n",
            "\n",
            "\n",
            "Results for SVC with C = 0.1, gamma = auto and kernel = poly : \n",
            " \n",
            " Averages: {'mean_acc': 0.7611803674952577, 'avg_tradeoff': 0.880590183747629, 'mean_eq_opp': 0.0}\n",
            "\n",
            "\n",
            "Results for SVC with C = 0.5, gamma = auto and kernel = poly : \n",
            " \n",
            " Averages: {'mean_acc': 0.8015440476806196, 'avg_tradeoff': 0.7061342654337436, 'mean_eq_opp': -0.3892755168131322}\n",
            "\n",
            "\n",
            "Results for SVC with C = 1, gamma = auto and kernel = poly : \n",
            " \n",
            " Averages: {'mean_acc': 0.8046447073698703, 'avg_tradeoff': 0.67780055252359, 'mean_eq_opp': -0.44904360232269047}\n",
            "\n",
            "\n",
            "Results for SVC with C = 2, gamma = auto and kernel = poly : \n",
            " \n",
            " Averages: {'mean_acc': 0.8047326619438998, 'avg_tradeoff': 0.6717475861529932, 'mean_eq_opp': -0.4612374896379133}\n",
            "\n",
            "\n",
            "Results for SVC with C = 5, gamma = auto and kernel = poly : \n",
            " \n",
            " Averages: {'mean_acc': 0.8044691190677773, 'avg_tradeoff': 0.6683453440035341, 'mean_eq_opp': -0.4677784310607094}\n",
            "\n",
            "\n",
            "Results for SVC with C = 1e-05, gamma = auto and kernel = rbf : \n",
            " \n",
            " Averages: {'mean_acc': 0.761180290492226, 'avg_tradeoff': 0.880590145246113, 'mean_eq_opp': 0.0}\n",
            "\n",
            "\n",
            "Results for SVC with C = 0.002, gamma = auto and kernel = rbf : \n",
            " \n",
            " Averages: {'mean_acc': 0.7611805043895364, 'avg_tradeoff': 0.8805902521947682, 'mean_eq_opp': 0.0}\n",
            "\n",
            "\n",
            "Results for SVC with C = 0.1, gamma = auto and kernel = rbf : \n",
            " \n",
            " Averages: {'mean_acc': 0.7885577088312596, 'avg_tradeoff': 0.8711326205208871, 'mean_eq_opp': -0.006923580083048097}\n",
            "\n",
            "\n",
            "Results for SVC with C = 0.5, gamma = auto and kernel = rbf : \n",
            " \n",
            " Averages: {'mean_acc': 0.8043229459238083, 'avg_tradeoff': 0.6683364371189237, 'mean_eq_opp': -0.46765007168596107}\n",
            "\n",
            "\n",
            "Results for SVC with C = 1, gamma = auto and kernel = rbf : \n",
            " \n",
            " Averages: {'mean_acc': 0.8043230571504096, 'avg_tradeoff': 0.6682792955016941, 'mean_eq_opp': -0.4677644661470216}\n",
            "\n",
            "\n",
            "Results for SVC with C = 2, gamma = auto and kernel = rbf : \n",
            " \n",
            " Averages: {'mean_acc': 0.804323005815055, 'avg_tradeoff': 0.6683180220267578, 'mean_eq_opp': -0.46768696176153934}\n",
            "\n",
            "\n",
            "Results for SVC with C = 5, gamma = auto and kernel = rbf : \n",
            " \n",
            " Averages: {'mean_acc': 0.8043229074222923, 'avg_tradeoff': 0.6682641415792332, 'mean_eq_opp': -0.4677946242638259}\n",
            "\n",
            "\n",
            "Results for SVC with C = 1e-05, gamma = auto and kernel = sigmoid : \n",
            " \n",
            " Averages: {'mean_acc': 0.7611804872777516, 'avg_tradeoff': 0.8805902436388757, 'mean_eq_opp': 0.0}\n",
            "\n",
            "\n",
            "Results for SVC with C = 0.002, gamma = auto and kernel = sigmoid : \n",
            " \n",
            " Averages: {'mean_acc': 0.7611803589393654, 'avg_tradeoff': 0.8805901794696827, 'mean_eq_opp': 0.0}\n",
            "\n",
            "\n",
            "Results for SVC with C = 0.1, gamma = auto and kernel = sigmoid : \n",
            " \n",
            " Averages: {'mean_acc': 0.7837901944596062, 'avg_tradeoff': 0.8760878283366814, 'mean_eq_opp': 0.004914739148652991}\n",
            "\n",
            "\n",
            "Results for SVC with C = 0.5, gamma = auto and kernel = sigmoid : \n",
            " \n",
            " Averages: {'mean_acc': 0.787738798700514, 'avg_tradeoff': 0.879934540086986, 'mean_eq_opp': 0.002493613025696728}\n",
            "\n",
            "\n",
            "Results for SVC with C = 1, gamma = auto and kernel = sigmoid : \n",
            " \n",
            " Averages: {'mean_acc': 0.7877388457579222, 'avg_tradeoff': 0.8783154617254454, 'mean_eq_opp': 0.0025409870917681545}\n",
            "\n",
            "\n",
            "Results for SVC with C = 2, gamma = auto and kernel = sigmoid : \n",
            " \n",
            " Averages: {'mean_acc': 0.7799585920474778, 'avg_tradeoff': 0.8436429502508664, 'mean_eq_opp': 0.06888283853098476}\n",
            "\n",
            "\n",
            "Results for SVC with C = 5, gamma = auto and kernel = sigmoid : \n",
            " \n",
            " Averages: {'mean_acc': 0.7579924248695324, 'avg_tradeoff': 0.7884079867990305, 'mean_eq_opp': -0.18117645127147122}\n",
            "\n",
            "\n",
            "Results for LogReg with C = 1e-05, and solver = newton-cg : \n",
            " \n",
            " Averages: {'mean_acc': 0.7611804444982895, 'avg_tradeoff': 0.8805902222491447, 'mean_eq_opp': 0.0}\n",
            "\n",
            "\n",
            "Results for LogReg with C = 0.002, and solver = newton-cg : \n",
            " \n",
            " Averages: {'mean_acc': 0.7921553888668076, 'avg_tradeoff': 0.7685980860394317, 'mean_eq_opp': -0.25495921678794436}\n",
            "\n",
            "\n",
            "Results for LogReg with C = 0.1, and solver = newton-cg : \n",
            " \n",
            " Averages: {'mean_acc': 0.8052296523445733, 'avg_tradeoff': 0.677302812799492, 'mean_eq_opp': -0.4506240267455894}\n",
            "\n",
            "\n",
            "Results for LogReg with C = 0.5, and solver = newton-cg : \n",
            " \n",
            " Averages: {'mean_acc': 0.8054346301371129, 'avg_tradeoff': 0.6707397586945213, 'mean_eq_opp': -0.4639551127480702}\n",
            "\n",
            "\n",
            "Results for LogReg with C = 1, and solver = newton-cg : \n",
            " \n",
            " Averages: {'mean_acc': 0.8050251964614711, 'avg_tradeoff': 0.673964057491581, 'mean_eq_opp': -0.45709708147830924}\n",
            "\n",
            "\n",
            "Results for LogReg with C = 2, and solver = newton-cg : \n",
            " \n",
            " Averages: {'mean_acc': 0.8052296095651112, 'avg_tradeoff': 0.675757563827717, 'mean_eq_opp': -0.45371448190967734}\n",
            "\n",
            "\n",
            "Results for LogReg with C = 5, and solver = newton-cg : \n",
            " \n",
            " Averages: {'mean_acc': 0.8052592257867068, 'avg_tradeoff': 0.6748753937287534, 'mean_eq_opp': -0.45550843832919996}\n",
            "\n",
            "\n",
            "Results for LogReg with C = 1e-05, and solver = liblinear : \n",
            " \n",
            " Averages: {'mean_acc': 0.7611804444982895, 'avg_tradeoff': 0.8805902222491447, 'mean_eq_opp': 0.0}\n",
            "\n",
            "\n",
            "Results for LogReg with C = 0.002, and solver = liblinear : \n",
            " \n",
            " Averages: {'mean_acc': 0.7938517784898276, 'avg_tradeoff': 0.7567583319669489, 'mean_eq_opp': -0.28033511455592997}\n",
            "\n",
            "\n",
            "Results for LogReg with C = 0.1, and solver = liblinear : \n",
            " \n",
            " Averages: {'mean_acc': 0.805492934265977, 'avg_tradeoff': 0.6713429307867308, 'mean_eq_opp': -0.4628070726925152}\n",
            "\n",
            "\n",
            "Results for LogReg with C = 0.5, and solver = liblinear : \n",
            " \n",
            " Averages: {'mean_acc': 0.8052007762076718, 'avg_tradeoff': 0.668688565096836, 'mean_eq_opp': -0.4678236460139997}\n",
            "\n",
            "\n",
            "Results for LogReg with C = 1, and solver = liblinear : \n",
            " \n",
            " Averages: {'mean_acc': 0.8053760393858529, 'avg_tradeoff': 0.6722717126176135, 'mean_eq_opp': -0.4608326141506258}\n",
            "\n",
            "\n",
            "Results for LogReg with C = 2, and solver = liblinear : \n",
            " \n",
            " Averages: {'mean_acc': 0.8053172817946909, 'avg_tradeoff': 0.6734350340846316, 'mean_eq_opp': -0.45844721362542773}\n",
            "\n",
            "\n",
            "Results for LogReg with C = 5, and solver = liblinear : \n",
            " \n",
            " Averages: {'mean_acc': 0.8054637287272174, 'avg_tradeoff': 0.6652152993468678, 'mean_eq_opp': -0.47503313003348147}\n",
            "\n",
            "\n"
          ]
        }
      ],
      "source": [
        "# Assign the different parameters for Logistic Regression and SVC. \n",
        "\n",
        "C = [0.00001, 0.002, 0.1, 0.5, 1, 2, 5]\n",
        "logreg_solvers = ['newton-cg', 'liblinear']\n",
        "g = 'auto'\n",
        "svm_kernels = ['linear', 'poly', 'rbf', 'sigmoid']\n",
        "\n",
        "svc_models = eval_svc(train)\n",
        "logreg_models = eval_log_reg(train)"
      ]
    },
    {
      "cell_type": "code",
      "execution_count": null,
      "metadata": {
        "id": "tSCnm0KtZD-o"
      },
      "outputs": [],
      "source": [
        "# Select the best classifier based on the final tradeoff value. \n",
        "def select_best(models):\n",
        "    best = 0\n",
        "    best_key = ''\n",
        "    for key in models.keys():\n",
        "        if best < models[key]['averages']['avg_tradeoff']:\n",
        "            best = models[key]['averages']['avg_tradeoff']\n",
        "            best_key = key\n",
        "        else:\n",
        "            pass\n",
        "    return best_key, best\n",
        "\n",
        "# Select the classifier with the highest fairness metrics. \n",
        "def select_fair(models):\n",
        "    best = 0\n",
        "    best_key = ''\n",
        "    for key in models.keys():\n",
        "        if best < (1 - (abs(models[key]['averages']['mean_eq_opp']))):\n",
        "            best = models[key]['averages']['mean_eq_opp']\n",
        "            best_key = key\n",
        "        else:\n",
        "            pass\n",
        "    return best_key, best\n",
        "\n",
        "# Select the classifier with the highest accuracy. \n",
        "def select_acc(models):\n",
        "    best = 0\n",
        "    best_key = ''\n",
        "    for key in models.keys():\n",
        "        if best < models[key]['averages']['mean_acc']:\n",
        "            best = models[key]['averages']['mean_acc']\n",
        "            best_key = key\n",
        "        else:\n",
        "            pass\n",
        "    return best_key, best\n",
        "\n",
        "# Compare and choose the better classifier based on a specific comparison criteria. \n",
        "def better(lg, svc, lg_val, svc_val):\n",
        "    if lg_val > svc_val:\n",
        "        winner = lg\n",
        "    elif lg_val < svc_val:\n",
        "        winner = svc\n",
        "\n",
        "    return winner "
      ]
    },
    {
      "cell_type": "code",
      "execution_count": null,
      "metadata": {
        "colab": {
          "base_uri": "https://localhost:8080/"
        },
        "id": "y5mWCMz-ZD-o",
        "outputId": "0dc99a75-c303-4632-fc48-506bc009349a"
      },
      "outputs": [
        {
          "output_type": "stream",
          "name": "stdout",
          "text": [
            "sigmoid_SVC, c:5\n",
            "liblinear_LogReg_0.1\n",
            "linear_SVC, c:5\n"
          ]
        }
      ],
      "source": [
        "svc_best, svc_val = select_best(svc_models)\n",
        "lg_best, lg_val = select_best(logreg_models)\n",
        "\n",
        "svc_fair, svc_fair_val = select_fair(svc_models)\n",
        "lg_fair, lg_fair_val = select_fair(logreg_models)\n",
        "\n",
        "svc_acc, svc_acc_val = select_acc(svc_models)\n",
        "lg_acc, lg_acc_val = select_acc(logreg_models)\n",
        "\n",
        "print (better(lg_fair, svc_fair, lg_fair_val, svc_fair_val))\n",
        "print (better(lg_acc, svc_acc, lg_acc_val, svc_acc_val))\n",
        "print (better(lg_best, svc_best, lg_val, svc_val))"
      ]
    },
    {
      "cell_type": "code",
      "execution_count": null,
      "metadata": {
        "id": "-hO292D8ZD-p"
      },
      "outputs": [],
      "source": [
        "# A function for testing the selected model in a standard scenario. \n",
        "def test_selected_model(train, test, clf = None):\n",
        "    scaler = MinMaxScaler()\n",
        "    X_train = scaler.fit_transform(train.features)\n",
        "    y_train = train.labels.ravel()\n",
        "    X_test = scaler.transform(test.features)\n",
        "    clf = clf\n",
        "    clf.fit(X_train,y_train)\n",
        "    predictions = clf.predict(X_test)\n",
        "    test_pred = test.copy()\n",
        "    test_pred.labels = predictions\n",
        "    acc = sum(predictions==y_test)/len(y_test)\n",
        "    metric = ClassificationMetric(test, test_pred, unprivileged_groups=unpriv, privileged_groups=priv)\n",
        "    eo = (metric.equal_opportunity_difference())\n",
        "    tradeoff = return_af_tradeoff(acc, eo)\n",
        "    return acc, eo, tradeoff"
      ]
    },
    {
      "cell_type": "code",
      "execution_count": null,
      "metadata": {
        "id": "Rdwakup7ZD-p"
      },
      "outputs": [],
      "source": [
        "best_standard_adult = test_selected_model(train, test, clf = SVC(kernel = 'linear', C =5, gamma='auto'))\n",
        "fair_standard_adult = test_selected_model(train, test, clf = SVC(kernel = 'sigmoid', C =5, gamma='auto'))\n",
        "accurate_standard_adult = test_selected_model(train, test, clf = LogisticRegression(solver = 'newton-cg', C =2))"
      ]
    },
    {
      "cell_type": "markdown",
      "metadata": {
        "id": "X5-tG8CfZD-p"
      },
      "source": [
        "### Applying reweighting method"
      ]
    },
    {
      "cell_type": "code",
      "execution_count": null,
      "metadata": {
        "colab": {
          "base_uri": "https://localhost:8080/"
        },
        "collapsed": true,
        "id": "2Z6GBy5xZD-p",
        "outputId": "f283d0fa-9d71-4e9c-c8b2-a7a495b6b636"
      },
      "outputs": [
        {
          "output_type": "stream",
          "name": "stdout",
          "text": [
            "Results for SVC with C = 1e-05, gamma = auto and kernel = linear : \n",
            " \n",
            " Averages: {'mean_acc': 0.7580216090185609, 'avg_tradeoff': 0.8790108045092804, 'mean_eq_opp': 0.0}\n",
            "\n",
            "\n",
            "Results for SVC with C = 0.002, gamma = auto and kernel = linear : \n",
            " \n",
            " Averages: {'mean_acc': 0.7580216988554312, 'avg_tradeoff': 0.8790108494277156, 'mean_eq_opp': 0.0}\n",
            "\n",
            "\n",
            "Results for SVC with C = 0.1, gamma = auto and kernel = linear : \n",
            " \n",
            " Averages: {'mean_acc': 0.7849016177181922, 'avg_tradeoff': 0.8804105423868108, 'mean_eq_opp': 0.01228580340226818}\n",
            "\n",
            "\n",
            "Results for SVC with C = 0.5, gamma = auto and kernel = linear : \n",
            " \n",
            " Averages: {'mean_acc': 0.7849893626728573, 'avg_tradeoff': 0.8811219391355507, 'mean_eq_opp': 0.012076290266419376}\n",
            "\n",
            "\n",
            "Results for SVC with C = 1, gamma = auto and kernel = linear : \n",
            " \n",
            " Averages: {'mean_acc': 0.7849895166789208, 'avg_tradeoff': 0.8802325714290671, 'mean_eq_opp': 0.012602127956186027}\n",
            "\n",
            "\n",
            "Results for SVC with C = 2, gamma = auto and kernel = linear : \n",
            " \n",
            " Averages: {'mean_acc': 0.7849893327272339, 'avg_tradeoff': 0.8781545134839736, 'mean_eq_opp': 0.012516418651228035}\n",
            "\n",
            "\n",
            "Results for SVC with C = 5, gamma = auto and kernel = linear : \n",
            " \n",
            " Averages: {'mean_acc': 0.7849892257785787, 'avg_tradeoff': 0.8824507185219108, 'mean_eq_opp': 0.01262493504699872}\n",
            "\n",
            "\n",
            "Results for SVC with C = 1e-05, gamma = auto and kernel = poly : \n",
            " \n",
            " Averages: {'mean_acc': 0.7580216988554312, 'avg_tradeoff': 0.8790108494277156, 'mean_eq_opp': 0.0}\n",
            "\n",
            "\n",
            "Results for SVC with C = 0.002, gamma = auto and kernel = poly : \n",
            " \n",
            " Averages: {'mean_acc': 0.7580214935140133, 'avg_tradeoff': 0.8790107467570067, 'mean_eq_opp': 0.0}\n",
            "\n",
            "\n",
            "Results for SVC with C = 0.1, gamma = auto and kernel = poly : \n",
            " \n",
            " Averages: {'mean_acc': 0.7580214421786587, 'avg_tradeoff': 0.8790107210893293, 'mean_eq_opp': 0.0}\n",
            "\n",
            "\n",
            "Results for SVC with C = 0.5, gamma = auto and kernel = poly : \n",
            " \n",
            " Averages: {'mean_acc': 0.7747516384854821, 'avg_tradeoff': 0.8195416558450204, 'mean_eq_opp': -0.13566832679544144}\n",
            "\n",
            "\n",
            "Results for SVC with C = 1, gamma = auto and kernel = poly : \n",
            " \n",
            " Averages: {'mean_acc': 0.7944951858774044, 'avg_tradeoff': 0.7991212199615981, 'mean_eq_opp': -0.19625274595420808}\n",
            "\n",
            "\n",
            "Results for SVC with C = 2, gamma = auto and kernel = poly : \n",
            " \n",
            " Averages: {'mean_acc': 0.7893477642148345, 'avg_tradeoff': 0.840004886680543, 'mean_eq_opp': -0.10096868629739371}\n",
            "\n",
            "\n",
            "Results for SVC with C = 5, gamma = auto and kernel = poly : \n",
            " \n",
            " Averages: {'mean_acc': 0.7879729007508351, 'avg_tradeoff': 0.8775452288468039, 'mean_eq_opp': -0.007837139189823839}\n",
            "\n",
            "\n",
            "Results for SVC with C = 1e-05, gamma = auto and kernel = rbf : \n",
            " \n",
            " Averages: {'mean_acc': 0.7580217074113238, 'avg_tradeoff': 0.8790108537056618, 'mean_eq_opp': 0.0}\n",
            "\n",
            "\n",
            "Results for SVC with C = 0.002, gamma = auto and kernel = rbf : \n",
            " \n",
            " Averages: {'mean_acc': 0.7580215876288298, 'avg_tradeoff': 0.8790107938144149, 'mean_eq_opp': 0.0}\n",
            "\n",
            "\n",
            "Results for SVC with C = 0.1, gamma = auto and kernel = rbf : \n",
            " \n",
            " Averages: {'mean_acc': 0.7849016305520309, 'avg_tradeoff': 0.8722114359022474, 'mean_eq_opp': 0.011593949160218785}\n",
            "\n",
            "\n",
            "Results for SVC with C = 0.5, gamma = auto and kernel = rbf : \n",
            " \n",
            " Averages: {'mean_acc': 0.784901878672911, 'avg_tradeoff': 0.88446590974412, 'mean_eq_opp': 0.012675228033740571}\n",
            "\n",
            "\n",
            "Results for SVC with C = 1, gamma = auto and kernel = rbf : \n",
            " \n",
            " Averages: {'mean_acc': 0.7849014851018599, 'avg_tradeoff': 0.8809474002934067, 'mean_eq_opp': 0.012935299093778996}\n",
            "\n",
            "\n",
            "Results for SVC with C = 2, gamma = auto and kernel = rbf : \n",
            " \n",
            " Averages: {'mean_acc': 0.7855158495126329, 'avg_tradeoff': 0.8741344895752583, 'mean_eq_opp': 0.013143570505588398}\n",
            "\n",
            "\n",
            "Results for SVC with C = 5, gamma = auto and kernel = rbf : \n",
            " \n",
            " Averages: {'mean_acc': 0.7858668421651319, 'avg_tradeoff': 0.8801264656978928, 'mean_eq_opp': 0.021378443415238924}\n",
            "\n",
            "\n",
            "Results for SVC with C = 1e-05, gamma = auto and kernel = sigmoid : \n",
            " \n",
            " Averages: {'mean_acc': 0.7580217501907857, 'avg_tradeoff': 0.8790108750953929, 'mean_eq_opp': 0.0}\n",
            "\n",
            "\n",
            "Results for SVC with C = 0.002, gamma = auto and kernel = sigmoid : \n",
            " \n",
            " Averages: {'mean_acc': 0.7580215106257981, 'avg_tradeoff': 0.8790107553128991, 'mean_eq_opp': 0.0}\n",
            "\n",
            "\n",
            "Results for SVC with C = 0.1, gamma = auto and kernel = sigmoid : \n",
            " \n",
            " Averages: {'mean_acc': 0.7852234219437165, 'avg_tradeoff': 0.8687670023949157, 'mean_eq_opp': 0.0008151752714394833}\n",
            "\n",
            "\n",
            "Results for SVC with C = 0.5, gamma = auto and kernel = sigmoid : \n",
            " \n",
            " Averages: {'mean_acc': 0.7849018915067495, 'avg_tradeoff': 0.8859446117273858, 'mean_eq_opp': 0.01217637747307706}\n",
            "\n",
            "\n",
            "Results for SVC with C = 1, gamma = auto and kernel = sigmoid : \n",
            " \n",
            " Averages: {'mean_acc': 0.7849017631683634, 'avg_tradeoff': 0.8752355775335617, 'mean_eq_opp': 0.011982903139238731}\n",
            "\n",
            "\n",
            "Results for SVC with C = 2, gamma = auto and kernel = sigmoid : \n",
            " \n",
            " Averages: {'mean_acc': 0.760683950339376, 'avg_tradeoff': 0.8468194484016853, 'mean_eq_opp': 0.030574465300711312}\n",
            "\n",
            "\n",
            "Results for SVC with C = 5, gamma = auto and kernel = sigmoid : \n",
            " \n",
            " Averages: {'mean_acc': 0.7459417626926557, 'avg_tradeoff': 0.8218505446856298, 'mean_eq_opp': 0.022271426100026904}\n",
            "\n",
            "\n",
            "Results for LogReg with C = 1e-05, and solver = newton-cg : \n",
            " \n",
            " Averages: {'mean_acc': 0.7580216346862381, 'avg_tradeoff': 0.8790108173431191, 'mean_eq_opp': 0.0}\n",
            "\n",
            "\n",
            "Results for LogReg with C = 0.002, and solver = newton-cg : \n",
            " \n",
            " Averages: {'mean_acc': 0.7687848104504065, 'avg_tradeoff': 0.874301405091422, 'mean_eq_opp': -0.0035755020726168374}\n",
            "\n",
            "\n",
            "Results for LogReg with C = 0.1, and solver = newton-cg : \n",
            " \n",
            " Averages: {'mean_acc': 0.7878848991193975, 'avg_tradeoff': 0.871944282645055, 'mean_eq_opp': -0.004172347134353271}\n",
            "\n",
            "\n",
            "Results for LogReg with C = 0.5, and solver = newton-cg : \n",
            " \n",
            " Averages: {'mean_acc': 0.7885575419913574, 'avg_tradeoff': 0.8818029356510536, 'mean_eq_opp': -0.006067126118132993}\n",
            "\n",
            "\n",
            "Results for LogReg with C = 1, and solver = newton-cg : \n",
            " \n",
            " Averages: {'mean_acc': 0.7880021020116486, 'avg_tradeoff': 0.8818164524795904, 'mean_eq_opp': 0.009172332698977936}\n",
            "\n",
            "\n",
            "Results for LogReg with C = 2, and solver = newton-cg : \n",
            " \n",
            " Averages: {'mean_acc': 0.7884699039853474, 'avg_tradeoff': 0.8797130835602465, 'mean_eq_opp': -0.001142811985673442}\n",
            "\n",
            "\n",
            "Results for LogReg with C = 5, and solver = newton-cg : \n",
            " \n",
            " Averages: {'mean_acc': 0.7885282808392972, 'avg_tradeoff': 0.8782654682492133, 'mean_eq_opp': -0.005566751493872446}\n",
            "\n",
            "\n",
            "Results for LogReg with C = 1e-05, and solver = liblinear : \n",
            " \n",
            " Averages: {'mean_acc': 0.758021673187754, 'avg_tradeoff': 0.8790108365938771, 'mean_eq_opp': 0.0}\n",
            "\n",
            "\n",
            "Results for LogReg with C = 0.002, and solver = liblinear : \n",
            " \n",
            " Averages: {'mean_acc': 0.7581676495461978, 'avg_tradeoff': 0.7764152832120763, 'mean_eq_opp': 0.2053370831220449}\n",
            "\n",
            "\n",
            "Results for LogReg with C = 0.1, and solver = liblinear : \n",
            " \n",
            " Averages: {'mean_acc': 0.7880017726097905, 'avg_tradeoff': 0.8833377158613203, 'mean_eq_opp': 0.008782412579587617}\n",
            "\n",
            "\n",
            "Results for LogReg with C = 0.5, and solver = liblinear : \n",
            " \n",
            " Averages: {'mean_acc': 0.7880018966702306, 'avg_tradeoff': 0.886304596434466, 'mean_eq_opp': 0.007375976719227339}\n",
            "\n",
            "\n",
            "Results for LogReg with C = 1, and solver = liblinear : \n",
            " \n",
            " Averages: {'mean_acc': 0.7879141859391352, 'avg_tradeoff': 0.8821530717750429, 'mean_eq_opp': -0.003289490818206031}\n",
            "\n",
            "\n",
            "Results for LogReg with C = 2, and solver = liblinear : \n",
            " \n",
            " Averages: {'mean_acc': 0.787241598680476, 'avg_tradeoff': 0.8843650341196018, 'mean_eq_opp': 0.014519142341213875}\n",
            "\n",
            "\n",
            "Results for LogReg with C = 5, and solver = liblinear : \n",
            " \n",
            " Averages: {'mean_acc': 0.7879143142775213, 'avg_tradeoff': 0.8855036777537079, 'mean_eq_opp': 0.0018288965490768304}\n",
            "\n",
            "\n"
          ]
        }
      ],
      "source": [
        "train, test = dataset_orig.split([0.7], shuffle=True)\n",
        "rw = Reweighing(unprivileged_groups=unpriv,\n",
        "                privileged_groups=priv)\n",
        "\n",
        "rw_svc_models = eval_svc(train, silence_print = False, rw = rw) \n",
        "rw_logreg_models = eval_log_reg(train, silence_print = False, rw= rw)"
      ]
    },
    {
      "cell_type": "code",
      "execution_count": null,
      "metadata": {
        "colab": {
          "base_uri": "https://localhost:8080/"
        },
        "id": "E4nx8CD-ZD-p",
        "outputId": "c3e9d59e-02f6-4d63-ab88-9864c9bd1d35"
      },
      "outputs": [
        {
          "output_type": "stream",
          "name": "stdout",
          "text": [
            "poly_SVC, c:1\n",
            "sigmoid_SVC, c:5\n",
            "liblinear_LogReg_0.5\n"
          ]
        }
      ],
      "source": [
        "svc_acc, svc_acc_val = select_acc(rw_svc_models)\n",
        "lg_acc, lg_acc_val = select_acc(rw_logreg_models)\n",
        "\n",
        "svc_fair, svc_fair_val = select_fair(rw_svc_models)\n",
        "lg_fair, lg_fair_val = select_fair(rw_logreg_models)\n",
        "\n",
        "svc_best, svc_best_val = select_best(rw_svc_models)\n",
        "lg_best, lg_best_val = select_best(rw_logreg_models)\n",
        "\n",
        "print (better(lg_acc, svc_acc, lg_acc_val, svc_acc_val))\n",
        "print (better(lg_fair, svc_fair, lg_fair_val, svc_fair_val))\n",
        "print (better(lg_best, svc_best, lg_best_val, svc_best_val))"
      ]
    },
    {
      "cell_type": "code",
      "execution_count": null,
      "metadata": {
        "id": "4_QpozQ8ZD-q"
      },
      "outputs": [],
      "source": [
        "accurate_rw_adult = test_selected_model(train, test, clf = SVC(kernel = 'poly', C =1, gamma = 'auto'))\n",
        "fair_rw_adult = test_selected_model(train, test, clf = SVC(kernel = 'sigmoid', C =5, gamma='auto'))\n",
        "best_rw_adult = test_selected_model(train, test, clf = SVC(kernel = 'poly', C =5, gamma='auto'))\n",
        "\n"
      ]
    },
    {
      "cell_type": "markdown",
      "metadata": {
        "id": "uMQbFGwiggFb"
      },
      "source": [
        "# Create a table with the final results of the classifiers with the best performance on accuracy, fairness, and tradeoff between the two. "
      ]
    },
    {
      "cell_type": "code",
      "execution_count": null,
      "metadata": {
        "id": "en1haSC4ZD-s"
      },
      "outputs": [],
      "source": [
        "final_reports_adult = {'Standard_Fair': {'Sigmoid_SVC, C = 5':fair_standard_adult}, 'Standard_Accurate': {'poly_SVC, C = 1': accurate_standard_adult}, 'Standard_Best':{'Poly_SVC, C = 5':best_standard_adult} , 'RW_Fair':{'Sigmoid_SVC, C = 5':fair_rw_adult} , 'RW_Accurate':{'Poly_SVC, C = 5':accurate_rw_adult} , 'RW_Best':{'Poly_SVC, C = 5':best_rw_adult} }\n"
      ]
    },
    {
      "cell_type": "code",
      "execution_count": null,
      "metadata": {
        "id": "BkWCuwAuZD-s"
      },
      "outputs": [],
      "source": [
        "df_adult = pd.DataFrame.from_dict(final_reports_adult)"
      ]
    },
    {
      "cell_type": "code",
      "execution_count": null,
      "metadata": {
        "colab": {
          "base_uri": "https://localhost:8080/",
          "height": 236
        },
        "id": "ox5LBxsMZD-s",
        "outputId": "be20aff1-2023-4dbf-fbbb-bc19c4b141df"
      },
      "outputs": [
        {
          "output_type": "execute_result",
          "data": {
            "text/plain": [
              "                                                  Sigmoid_SVC, C = 5  \\\n",
              "Standard_Fair      (0.6621169726335904, 0.005542571533930618, 0.8...   \n",
              "Standard_Accurate                                                NaN   \n",
              "Standard_Best                                                    NaN   \n",
              "RW_Fair            (0.6714665938715622, -0.2771732207701096, 0.69...   \n",
              "RW_Accurate                                                      NaN   \n",
              "RW_Best                                                          NaN   \n",
              "\n",
              "                                                     poly_SVC, C = 1  \\\n",
              "Standard_Fair                                                    NaN   \n",
              "Standard_Accurate  (0.6860028663072408, -0.4581099195710456, 0.61...   \n",
              "Standard_Best                                                    NaN   \n",
              "RW_Fair                                                          NaN   \n",
              "RW_Accurate                                                      NaN   \n",
              "RW_Best                                                          NaN   \n",
              "\n",
              "                                                     Poly_SVC, C = 5  \n",
              "Standard_Fair                                                    NaN  \n",
              "Standard_Accurate                                                NaN  \n",
              "Standard_Best      (0.6538592779635569, 0.020348924125696444, 0.8...  \n",
              "RW_Fair                                                          NaN  \n",
              "RW_Accurate        (0.6867535658226984, -0.4557752341311134, 0.61...  \n",
              "RW_Best            (0.6822493687299529, -0.46999653139091224, 0.6...  "
            ],
            "text/html": [
              "\n",
              "  <div id=\"df-801a3977-136d-4f4d-87ed-507b949c15e4\">\n",
              "    <div class=\"colab-df-container\">\n",
              "      <div>\n",
              "<style scoped>\n",
              "    .dataframe tbody tr th:only-of-type {\n",
              "        vertical-align: middle;\n",
              "    }\n",
              "\n",
              "    .dataframe tbody tr th {\n",
              "        vertical-align: top;\n",
              "    }\n",
              "\n",
              "    .dataframe thead th {\n",
              "        text-align: right;\n",
              "    }\n",
              "</style>\n",
              "<table border=\"1\" class=\"dataframe\">\n",
              "  <thead>\n",
              "    <tr style=\"text-align: right;\">\n",
              "      <th></th>\n",
              "      <th>Sigmoid_SVC, C = 5</th>\n",
              "      <th>poly_SVC, C = 1</th>\n",
              "      <th>Poly_SVC, C = 5</th>\n",
              "    </tr>\n",
              "  </thead>\n",
              "  <tbody>\n",
              "    <tr>\n",
              "      <th>Standard_Fair</th>\n",
              "      <td>(0.6621169726335904, 0.005542571533930618, 0.8...</td>\n",
              "      <td>NaN</td>\n",
              "      <td>NaN</td>\n",
              "    </tr>\n",
              "    <tr>\n",
              "      <th>Standard_Accurate</th>\n",
              "      <td>NaN</td>\n",
              "      <td>(0.6860028663072408, -0.4581099195710456, 0.61...</td>\n",
              "      <td>NaN</td>\n",
              "    </tr>\n",
              "    <tr>\n",
              "      <th>Standard_Best</th>\n",
              "      <td>NaN</td>\n",
              "      <td>NaN</td>\n",
              "      <td>(0.6538592779635569, 0.020348924125696444, 0.8...</td>\n",
              "    </tr>\n",
              "    <tr>\n",
              "      <th>RW_Fair</th>\n",
              "      <td>(0.6714665938715622, -0.2771732207701096, 0.69...</td>\n",
              "      <td>NaN</td>\n",
              "      <td>NaN</td>\n",
              "    </tr>\n",
              "    <tr>\n",
              "      <th>RW_Accurate</th>\n",
              "      <td>NaN</td>\n",
              "      <td>NaN</td>\n",
              "      <td>(0.6867535658226984, -0.4557752341311134, 0.61...</td>\n",
              "    </tr>\n",
              "    <tr>\n",
              "      <th>RW_Best</th>\n",
              "      <td>NaN</td>\n",
              "      <td>NaN</td>\n",
              "      <td>(0.6822493687299529, -0.46999653139091224, 0.6...</td>\n",
              "    </tr>\n",
              "  </tbody>\n",
              "</table>\n",
              "</div>\n",
              "      <button class=\"colab-df-convert\" onclick=\"convertToInteractive('df-801a3977-136d-4f4d-87ed-507b949c15e4')\"\n",
              "              title=\"Convert this dataframe to an interactive table.\"\n",
              "              style=\"display:none;\">\n",
              "        \n",
              "  <svg xmlns=\"http://www.w3.org/2000/svg\" height=\"24px\"viewBox=\"0 0 24 24\"\n",
              "       width=\"24px\">\n",
              "    <path d=\"M0 0h24v24H0V0z\" fill=\"none\"/>\n",
              "    <path d=\"M18.56 5.44l.94 2.06.94-2.06 2.06-.94-2.06-.94-.94-2.06-.94 2.06-2.06.94zm-11 1L8.5 8.5l.94-2.06 2.06-.94-2.06-.94L8.5 2.5l-.94 2.06-2.06.94zm10 10l.94 2.06.94-2.06 2.06-.94-2.06-.94-.94-2.06-.94 2.06-2.06.94z\"/><path d=\"M17.41 7.96l-1.37-1.37c-.4-.4-.92-.59-1.43-.59-.52 0-1.04.2-1.43.59L10.3 9.45l-7.72 7.72c-.78.78-.78 2.05 0 2.83L4 21.41c.39.39.9.59 1.41.59.51 0 1.02-.2 1.41-.59l7.78-7.78 2.81-2.81c.8-.78.8-2.07 0-2.86zM5.41 20L4 18.59l7.72-7.72 1.47 1.35L5.41 20z\"/>\n",
              "  </svg>\n",
              "      </button>\n",
              "      \n",
              "  <style>\n",
              "    .colab-df-container {\n",
              "      display:flex;\n",
              "      flex-wrap:wrap;\n",
              "      gap: 12px;\n",
              "    }\n",
              "\n",
              "    .colab-df-convert {\n",
              "      background-color: #E8F0FE;\n",
              "      border: none;\n",
              "      border-radius: 50%;\n",
              "      cursor: pointer;\n",
              "      display: none;\n",
              "      fill: #1967D2;\n",
              "      height: 32px;\n",
              "      padding: 0 0 0 0;\n",
              "      width: 32px;\n",
              "    }\n",
              "\n",
              "    .colab-df-convert:hover {\n",
              "      background-color: #E2EBFA;\n",
              "      box-shadow: 0px 1px 2px rgba(60, 64, 67, 0.3), 0px 1px 3px 1px rgba(60, 64, 67, 0.15);\n",
              "      fill: #174EA6;\n",
              "    }\n",
              "\n",
              "    [theme=dark] .colab-df-convert {\n",
              "      background-color: #3B4455;\n",
              "      fill: #D2E3FC;\n",
              "    }\n",
              "\n",
              "    [theme=dark] .colab-df-convert:hover {\n",
              "      background-color: #434B5C;\n",
              "      box-shadow: 0px 1px 3px 1px rgba(0, 0, 0, 0.15);\n",
              "      filter: drop-shadow(0px 1px 2px rgba(0, 0, 0, 0.3));\n",
              "      fill: #FFFFFF;\n",
              "    }\n",
              "  </style>\n",
              "\n",
              "      <script>\n",
              "        const buttonEl =\n",
              "          document.querySelector('#df-801a3977-136d-4f4d-87ed-507b949c15e4 button.colab-df-convert');\n",
              "        buttonEl.style.display =\n",
              "          google.colab.kernel.accessAllowed ? 'block' : 'none';\n",
              "\n",
              "        async function convertToInteractive(key) {\n",
              "          const element = document.querySelector('#df-801a3977-136d-4f4d-87ed-507b949c15e4');\n",
              "          const dataTable =\n",
              "            await google.colab.kernel.invokeFunction('convertToInteractive',\n",
              "                                                     [key], {});\n",
              "          if (!dataTable) return;\n",
              "\n",
              "          const docLinkHtml = 'Like what you see? Visit the ' +\n",
              "            '<a target=\"_blank\" href=https://colab.research.google.com/notebooks/data_table.ipynb>data table notebook</a>'\n",
              "            + ' to learn more about interactive tables.';\n",
              "          element.innerHTML = '';\n",
              "          dataTable['output_type'] = 'display_data';\n",
              "          await google.colab.output.renderOutput(dataTable, element);\n",
              "          const docLink = document.createElement('div');\n",
              "          docLink.innerHTML = docLinkHtml;\n",
              "          element.appendChild(docLink);\n",
              "        }\n",
              "      </script>\n",
              "    </div>\n",
              "  </div>\n",
              "  "
            ]
          },
          "metadata": {},
          "execution_count": 28
        }
      ],
      "source": [
        "df_adult.T"
      ]
    }
  ],
  "metadata": {
    "colab": {
      "collapsed_sections": [],
      "name": "aif360_cv.ipynb",
      "provenance": []
    },
    "kernelspec": {
      "display_name": "Python 3 (ipykernel)",
      "language": "python",
      "name": "python3"
    },
    "language_info": {
      "codemirror_mode": {
        "name": "ipython",
        "version": 3
      },
      "file_extension": ".py",
      "mimetype": "text/x-python",
      "name": "python",
      "nbconvert_exporter": "python",
      "pygments_lexer": "ipython3",
      "version": "3.9.12"
    }
  },
  "nbformat": 4,
  "nbformat_minor": 0
}